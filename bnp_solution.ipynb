{
 "cells": [
  {
   "cell_type": "code",
   "execution_count": 1,
   "metadata": {
    "collapsed": true
   },
   "outputs": [],
   "source": [
    "import pandas as pd\n",
    "import numpy as np"
   ]
  },
  {
   "cell_type": "code",
   "execution_count": 5,
   "metadata": {
    "collapsed": false
   },
   "outputs": [
    {
     "name": "stdout",
     "output_type": "stream",
     "text": [
      "0.18.0; 1.10.4\n"
     ]
    }
   ],
   "source": [
    "print(pd.__version__, np.__version__, sep= '; ')"
   ]
  },
  {
   "cell_type": "code",
   "execution_count": 121,
   "metadata": {
    "collapsed": false
   },
   "outputs": [],
   "source": [
    "tr = pd.read_csv('/Users/evgenysidorov/Documents/Kaggle/bnp/data/train.csv')"
   ]
  },
  {
   "cell_type": "code",
   "execution_count": 10,
   "metadata": {
    "collapsed": false
   },
   "outputs": [
    {
     "name": "stdout",
     "output_type": "stream",
     "text": [
      "(114321, 133)\n"
     ]
    },
    {
     "data": {
      "text/html": [
       "<div>\n",
       "<table border=\"1\" class=\"dataframe\">\n",
       "  <thead>\n",
       "    <tr style=\"text-align: right;\">\n",
       "      <th></th>\n",
       "      <th>ID</th>\n",
       "      <th>target</th>\n",
       "      <th>v1</th>\n",
       "      <th>v2</th>\n",
       "      <th>v3</th>\n",
       "      <th>v4</th>\n",
       "      <th>v5</th>\n",
       "      <th>v6</th>\n",
       "      <th>v7</th>\n",
       "      <th>v8</th>\n",
       "      <th>...</th>\n",
       "      <th>v122</th>\n",
       "      <th>v123</th>\n",
       "      <th>v124</th>\n",
       "      <th>v125</th>\n",
       "      <th>v126</th>\n",
       "      <th>v127</th>\n",
       "      <th>v128</th>\n",
       "      <th>v129</th>\n",
       "      <th>v130</th>\n",
       "      <th>v131</th>\n",
       "    </tr>\n",
       "  </thead>\n",
       "  <tbody>\n",
       "    <tr>\n",
       "      <th>0</th>\n",
       "      <td>3</td>\n",
       "      <td>1</td>\n",
       "      <td>1.335739</td>\n",
       "      <td>8.727474</td>\n",
       "      <td>C</td>\n",
       "      <td>3.921026</td>\n",
       "      <td>7.915266</td>\n",
       "      <td>2.599278</td>\n",
       "      <td>3.176895</td>\n",
       "      <td>0.012941</td>\n",
       "      <td>...</td>\n",
       "      <td>8.0</td>\n",
       "      <td>1.98978</td>\n",
       "      <td>0.035754</td>\n",
       "      <td>AU</td>\n",
       "      <td>1.804126</td>\n",
       "      <td>3.113719</td>\n",
       "      <td>2.024285</td>\n",
       "      <td>0</td>\n",
       "      <td>0.636365</td>\n",
       "      <td>2.857144</td>\n",
       "    </tr>\n",
       "  </tbody>\n",
       "</table>\n",
       "<p>1 rows × 133 columns</p>\n",
       "</div>"
      ],
      "text/plain": [
       "   ID  target        v1        v2 v3        v4        v5        v6        v7  \\\n",
       "0   3       1  1.335739  8.727474  C  3.921026  7.915266  2.599278  3.176895   \n",
       "\n",
       "         v8    ...     v122     v123      v124  v125      v126      v127  \\\n",
       "0  0.012941    ...      8.0  1.98978  0.035754    AU  1.804126  3.113719   \n",
       "\n",
       "       v128  v129      v130      v131  \n",
       "0  2.024285     0  0.636365  2.857144  \n",
       "\n",
       "[1 rows x 133 columns]"
      ]
     },
     "execution_count": 10,
     "metadata": {},
     "output_type": "execute_result"
    }
   ],
   "source": [
    "print(tr.shape)\n",
    "tr.head(1)"
   ]
  },
  {
   "cell_type": "markdown",
   "metadata": {},
   "source": [
    "Типы переменных, для флотов уже есть идея из слака привести их назад к [0, 20].\n",
    "Для текстовых переменных - следую небольшому анализу с форума. Есть большие корреляции"
   ]
  },
  {
   "cell_type": "code",
   "execution_count": 11,
   "metadata": {
    "collapsed": false
   },
   "outputs": [
    {
     "data": {
      "text/plain": [
       "float64    108\n",
       "object      19\n",
       "int64        6\n",
       "dtype: int64"
      ]
     },
     "execution_count": 11,
     "metadata": {},
     "output_type": "execute_result"
    }
   ],
   "source": [
    "tr.dtypes.value_counts()"
   ]
  },
  {
   "cell_type": "code",
   "execution_count": 122,
   "metadata": {
    "collapsed": true
   },
   "outputs": [],
   "source": [
    "del tr['v91'] # 1-в-1 соответствие с какой-то другой колонкой"
   ]
  },
  {
   "cell_type": "code",
   "execution_count": 21,
   "metadata": {
    "collapsed": true
   },
   "outputs": [
    {
     "data": {
      "text/plain": [
       "CB    55425\n",
       "IA    39071\n",
       "EA     5301\n",
       "FA     4322\n",
       "GA     3946\n",
       "DC     3157\n",
       "JA     3010\n",
       "BC       50\n",
       "AA       38\n",
       "HB        1\n",
       "dtype: int64"
      ]
     },
     "execution_count": 21,
     "metadata": {},
     "output_type": "execute_result"
    }
   ],
   "source": [
    "# колонка v47 более широкая чем v110, это как департаменты и подтепартменты в уолмарте были\n",
    "(tr['v47']+tr['v110']).value_counts()"
   ]
  },
  {
   "cell_type": "code",
   "execution_count": 23,
   "metadata": {
    "collapsed": true
   },
   "outputs": [
    {
     "data": {
      "text/plain": [
       "FD    75086\n",
       "BB    30247\n",
       "CB     8944\n",
       "IC        9\n",
       "IA        7\n",
       "FC        6\n",
       "BC        4\n",
       "BA        4\n",
       "GA        3\n",
       "GC        2\n",
       "DC        1\n",
       "AA        1\n",
       "LC        1\n",
       "FA        1\n",
       "CA        1\n",
       "FB        1\n",
       "KA        1\n",
       "CD        1\n",
       "CC        1\n",
       "dtype: int64"
      ]
     },
     "execution_count": 23,
     "metadata": {},
     "output_type": "execute_result"
    }
   ],
   "source": [
    "(tr['v71']+tr['v75']).value_counts() # можно объединить в одну колонку, хотя потеряется немного информации."
   ]
  },
  {
   "cell_type": "markdown",
   "metadata": {},
   "source": [
    "По ссылке есть уже найденные сильно скоррелированные переменные https://www.kaggle.com/c/bnp-paribas-cardif-claims-management/forums/t/19240/analysis-of-duplicate-variables-correlated-variables-large-post <br>\n",
    "Нужно будет сделать для них PCA, например"
   ]
  },
  {
   "cell_type": "code",
   "execution_count": null,
   "metadata": {
    "collapsed": true
   },
   "outputs": [],
   "source": [
    "I've also discovered that v72 is the exact sum of v129 v38 and v62."
   ]
  },
  {
   "cell_type": "markdown",
   "metadata": {},
   "source": [
    "# Пора модель гонять!"
   ]
  },
  {
   "cell_type": "code",
   "execution_count": 32,
   "metadata": {
    "collapsed": false
   },
   "outputs": [
    {
     "data": {
      "text/html": [
       "<div>\n",
       "<table border=\"1\" class=\"dataframe\">\n",
       "  <thead>\n",
       "    <tr style=\"text-align: right;\">\n",
       "      <th></th>\n",
       "      <th>ID</th>\n",
       "      <th>target</th>\n",
       "      <th>v1</th>\n",
       "      <th>v2</th>\n",
       "      <th>v3</th>\n",
       "      <th>v4</th>\n",
       "      <th>v5</th>\n",
       "      <th>v6</th>\n",
       "      <th>v7</th>\n",
       "      <th>v8</th>\n",
       "      <th>...</th>\n",
       "      <th>v122</th>\n",
       "      <th>v123</th>\n",
       "      <th>v124</th>\n",
       "      <th>v125</th>\n",
       "      <th>v126</th>\n",
       "      <th>v127</th>\n",
       "      <th>v128</th>\n",
       "      <th>v129</th>\n",
       "      <th>v130</th>\n",
       "      <th>v131</th>\n",
       "    </tr>\n",
       "  </thead>\n",
       "  <tbody>\n",
       "    <tr>\n",
       "      <th>0</th>\n",
       "      <td>3</td>\n",
       "      <td>1</td>\n",
       "      <td>1.335739</td>\n",
       "      <td>8.727474</td>\n",
       "      <td>C</td>\n",
       "      <td>3.921026</td>\n",
       "      <td>7.915266</td>\n",
       "      <td>2.599278</td>\n",
       "      <td>3.176895</td>\n",
       "      <td>0.012941</td>\n",
       "      <td>...</td>\n",
       "      <td>8.0</td>\n",
       "      <td>1.98978</td>\n",
       "      <td>0.035754</td>\n",
       "      <td>AU</td>\n",
       "      <td>1.804126</td>\n",
       "      <td>3.113719</td>\n",
       "      <td>2.024285</td>\n",
       "      <td>0</td>\n",
       "      <td>0.636365</td>\n",
       "      <td>2.857144</td>\n",
       "    </tr>\n",
       "  </tbody>\n",
       "</table>\n",
       "<p>1 rows × 132 columns</p>\n",
       "</div>"
      ],
      "text/plain": [
       "   ID  target        v1        v2 v3        v4        v5        v6        v7  \\\n",
       "0   3       1  1.335739  8.727474  C  3.921026  7.915266  2.599278  3.176895   \n",
       "\n",
       "         v8    ...     v122     v123      v124  v125      v126      v127  \\\n",
       "0  0.012941    ...      8.0  1.98978  0.035754    AU  1.804126  3.113719   \n",
       "\n",
       "       v128  v129      v130      v131  \n",
       "0  2.024285     0  0.636365  2.857144  \n",
       "\n",
       "[1 rows x 132 columns]"
      ]
     },
     "execution_count": 32,
     "metadata": {},
     "output_type": "execute_result"
    }
   ],
   "source": [
    "tr.head(1)"
   ]
  },
  {
   "cell_type": "markdown",
   "metadata": {},
   "source": [
    "## Что нужно сделать в будущем\n",
    "    1. Почистить скоррелированность и связанность (с форума взять инфу)\n",
    "    2. Отскейлить(понять как это делается) и брут-форсом вставлять комбинации. Почистить лассо или важностью фичей\n",
    "    3. Избавиться от шума в переменных? - вычесть ошибку каки-то образом\n",
    "    4. Энкодинг\n",
    "    5. Выделить группы фичей \n",
    "    6. Сделать счетчики - число NA, число значений больше среднего, какого-то квантиля"
   ]
  },
  {
   "cell_type": "code",
   "execution_count": 39,
   "metadata": {
    "collapsed": true
   },
   "outputs": [],
   "source": [
    "from sklearn.linear_model import LassoCV"
   ]
  },
  {
   "cell_type": "code",
   "execution_count": 40,
   "metadata": {
    "collapsed": true
   },
   "outputs": [],
   "source": [
    "from sklearn.cross_validation import StratifiedShuffleSplit"
   ]
  },
  {
   "cell_type": "code",
   "execution_count": 41,
   "metadata": {
    "collapsed": true
   },
   "outputs": [],
   "source": [
    "from sklearn.preprocessing import LabelEncoder"
   ]
  },
  {
   "cell_type": "code",
   "execution_count": 79,
   "metadata": {
    "collapsed": false
   },
   "outputs": [],
   "source": [
    "ss = StratifiedShuffleSplit(tr['target'].values, n_iter = 1, test_size = 0.3, random_state=24)"
   ]
  },
  {
   "cell_type": "code",
   "execution_count": 123,
   "metadata": {
    "collapsed": false
   },
   "outputs": [],
   "source": [
    "for i in list(tr.columns):\n",
    "    if tr[i].dtype == 'O':\n",
    "        tr.loc[:, i] = pd.factorize(tr[i])[0]"
   ]
  },
  {
   "cell_type": "code",
   "execution_count": 103,
   "metadata": {
    "collapsed": true
   },
   "outputs": [],
   "source": [
    "from sklearn.preprocessing import StandardScaler\n",
    "st_sc = StandardScaler()\n",
    "tr.iloc[:, 2:] = st_sc.fit_transform(tr.iloc[:, 2:] )"
   ]
  },
  {
   "cell_type": "code",
   "execution_count": 105,
   "metadata": {
    "collapsed": false
   },
   "outputs": [],
   "source": [
    "l_cv = LassoCV(eps=0.0001, \n",
    "               n_alphas=1000, \n",
    "               alphas=None, \n",
    "               fit_intercept=True, \n",
    "               normalize=False, \n",
    "               precompute='auto', \n",
    "               max_iter=10000, \n",
    "               tol=0.0001, \n",
    "               copy_X=True, \n",
    "               cv=None, \n",
    "               verbose=False, \n",
    "               n_jobs=-1, \n",
    "               positive=False, \n",
    "               random_state=22, \n",
    "               selection='cyclic')"
   ]
  },
  {
   "cell_type": "code",
   "execution_count": 106,
   "metadata": {
    "collapsed": false
   },
   "outputs": [
    {
     "data": {
      "text/html": [
       "<div>\n",
       "<table border=\"1\" class=\"dataframe\">\n",
       "  <thead>\n",
       "    <tr style=\"text-align: right;\">\n",
       "      <th></th>\n",
       "      <th>ID</th>\n",
       "      <th>target</th>\n",
       "      <th>v1</th>\n",
       "      <th>v2</th>\n",
       "      <th>v3</th>\n",
       "      <th>v4</th>\n",
       "      <th>v5</th>\n",
       "      <th>v6</th>\n",
       "      <th>v7</th>\n",
       "      <th>v8</th>\n",
       "      <th>...</th>\n",
       "      <th>v122</th>\n",
       "      <th>v123</th>\n",
       "      <th>v124</th>\n",
       "      <th>v125</th>\n",
       "      <th>v126</th>\n",
       "      <th>v127</th>\n",
       "      <th>v128</th>\n",
       "      <th>v129</th>\n",
       "      <th>v130</th>\n",
       "      <th>v131</th>\n",
       "    </tr>\n",
       "  </thead>\n",
       "  <tbody>\n",
       "    <tr>\n",
       "      <th>0</th>\n",
       "      <td>3</td>\n",
       "      <td>1</td>\n",
       "      <td>0.554085</td>\n",
       "      <td>1.042047</td>\n",
       "      <td>0.149675</td>\n",
       "      <td>0.748987</td>\n",
       "      <td>0.655742</td>\n",
       "      <td>0.942241</td>\n",
       "      <td>1.240098</td>\n",
       "      <td>-0.172595</td>\n",
       "      <td>...</td>\n",
       "      <td>1.117302</td>\n",
       "      <td>0.153245</td>\n",
       "      <td>-0.036475</td>\n",
       "      <td>-1.536665</td>\n",
       "      <td>0.940745</td>\n",
       "      <td>0.708351</td>\n",
       "      <td>0.752294</td>\n",
       "      <td>-0.447372</td>\n",
       "      <td>-0.007953</td>\n",
       "      <td>1.442652</td>\n",
       "    </tr>\n",
       "  </tbody>\n",
       "</table>\n",
       "<p>1 rows × 132 columns</p>\n",
       "</div>"
      ],
      "text/plain": [
       "   ID  target        v1        v2        v3        v4        v5        v6  \\\n",
       "0   3       1  0.554085  1.042047  0.149675  0.748987  0.655742  0.942241   \n",
       "\n",
       "         v7        v8    ...         v122      v123      v124      v125  \\\n",
       "0  1.240098 -0.172595    ...     1.117302  0.153245 -0.036475 -1.536665   \n",
       "\n",
       "       v126      v127      v128      v129      v130      v131  \n",
       "0  0.940745  0.708351  0.752294 -0.447372 -0.007953  1.442652  \n",
       "\n",
       "[1 rows x 132 columns]"
      ]
     },
     "execution_count": 106,
     "metadata": {},
     "output_type": "execute_result"
    }
   ],
   "source": [
    "tr.head(1)"
   ]
  },
  {
   "cell_type": "code",
   "execution_count": 126,
   "metadata": {
    "collapsed": false
   },
   "outputs": [],
   "source": [
    "tr['num_na'] = tr.apply(lambda x: x.shape[0] - x.count(), axis = 1)"
   ]
  },
  {
   "cell_type": "code",
   "execution_count": 131,
   "metadata": {
    "collapsed": false
   },
   "outputs": [],
   "source": [
    "tr_updated = pd.concat([tr, tr.iloc[:, 2:50].apply(lambda x: x.apply(lambda y: y<x.mean()), axis = 0)], axis = 1)"
   ]
  },
  {
   "cell_type": "code",
   "execution_count": 140,
   "metadata": {
    "collapsed": false
   },
   "outputs": [],
   "source": [
    "tr_updated.iloc[:, 133:] = tr_updated.iloc[:, 133:].astype(int)"
   ]
  },
  {
   "cell_type": "code",
   "execution_count": 138,
   "metadata": {
    "collapsed": true
   },
   "outputs": [],
   "source": [
    "tr.fillna(-1, inplace=True)"
   ]
  },
  {
   "cell_type": "code",
   "execution_count": 107,
   "metadata": {
    "collapsed": false
   },
   "outputs": [
    {
     "name": "stderr",
     "output_type": "stream",
     "text": [
      "/Users/evgenysidorov/anaconda/lib/python3.5/site-packages/sklearn/linear_model/coordinate_descent.py:466: ConvergenceWarning: Objective did not converge. You might want to increase the number of iterations\n",
      "  ConvergenceWarning)\n"
     ]
    },
    {
     "data": {
      "text/plain": [
       "LassoCV(alphas=None, copy_X=True, cv=None, eps=0.0001, fit_intercept=True,\n",
       "    max_iter=10000, n_alphas=1000, n_jobs=-1, normalize=False,\n",
       "    positive=False, precompute='auto', random_state=22, selection='cyclic',\n",
       "    tol=0.0001, verbose=False)"
      ]
     },
     "execution_count": 107,
     "metadata": {},
     "output_type": "execute_result"
    }
   ],
   "source": [
    "l_cv.fit(tr.iloc[:, 2:], tr.iloc[:, 1])"
   ]
  },
  {
   "cell_type": "code",
   "execution_count": 108,
   "metadata": {
    "collapsed": false
   },
   "outputs": [
    {
     "data": {
      "text/plain": [
       "9.8093571446421105e-05"
      ]
     },
     "execution_count": 108,
     "metadata": {},
     "output_type": "execute_result"
    }
   ],
   "source": [
    "l_cv.alpha_"
   ]
  },
  {
   "cell_type": "code",
   "execution_count": 118,
   "metadata": {
    "collapsed": false,
    "scrolled": true
   },
   "outputs": [
    {
     "name": "stdout",
     "output_type": "stream",
     "text": [
      "ID\n",
      "target\n",
      "v1\n",
      "v2\n",
      "v4\n",
      "v6\n",
      "v7\n",
      "v8\n",
      "v10\n",
      "v12\n",
      "v13\n",
      "v14\n",
      "v15\n",
      "v16\n",
      "v17\n",
      "v22\n",
      "v24\n",
      "v25\n",
      "v26\n",
      "v28\n",
      "v29\n",
      "v34\n",
      "v36\n",
      "v37\n",
      "v43\n",
      "v44\n",
      "v45\n",
      "v48\n",
      "v52\n",
      "v53\n",
      "v54\n",
      "v57\n",
      "v62\n",
      "v63\n",
      "v64\n",
      "v68\n",
      "v69\n",
      "v72\n",
      "v77\n",
      "v79\n",
      "v80\n",
      "v82\n",
      "v83\n",
      "v87\n",
      "v90\n",
      "v92\n",
      "v96\n",
      "v97\n",
      "v100\n",
      "v103\n",
      "v107\n",
      "v108\n",
      "v109\n",
      "v110\n",
      "v112\n",
      "v113\n",
      "v115\n",
      "v117\n",
      "v122\n",
      "v123\n",
      "v127\n",
      "v129\n"
     ]
    }
   ],
   "source": [
    "l = list()\n",
    "for j in range(len(l_cv.coef_)):\n",
    "    if abs(l_cv.coef_[j])>0.001:\n",
    "        print(list(tr.columns)[j])\n",
    "        l.append(list(tr.columns)[j])\n",
    "# l.remove('target')"
   ]
  },
  {
   "cell_type": "code",
   "execution_count": 72,
   "metadata": {
    "collapsed": true
   },
   "outputs": [],
   "source": [
    "import xgboost as xgb"
   ]
  },
  {
   "cell_type": "code",
   "execution_count": 143,
   "metadata": {
    "collapsed": false
   },
   "outputs": [
    {
     "name": "stderr",
     "output_type": "stream",
     "text": [
      "[0]\teval-logloss:0.661106\ttrain-logloss:0.660323\n",
      "[1]\teval-logloss:0.631145\ttrain-logloss:0.629617\n",
      "[2]\teval-logloss:0.608004\ttrain-logloss:0.605314\n",
      "[3]\teval-logloss:0.590643\ttrain-logloss:0.587228\n",
      "[4]\teval-logloss:0.572815\ttrain-logloss:0.568403\n",
      "[5]\teval-logloss:0.559878\ttrain-logloss:0.554730\n",
      "[6]\teval-logloss:0.546631\ttrain-logloss:0.540595\n",
      "[7]\teval-logloss:0.535462\ttrain-logloss:0.528554\n",
      "[8]\teval-logloss:0.526695\ttrain-logloss:0.518714\n",
      "[9]\teval-logloss:0.518639\ttrain-logloss:0.509765\n",
      "[10]\teval-logloss:0.513452\ttrain-logloss:0.503671\n",
      "[11]\teval-logloss:0.508138\ttrain-logloss:0.497674\n",
      "[12]\teval-logloss:0.503566\ttrain-logloss:0.492435\n",
      "[13]\teval-logloss:0.499303\ttrain-logloss:0.487112\n",
      "[14]\teval-logloss:0.496009\ttrain-logloss:0.482952\n",
      "[15]\teval-logloss:0.493434\ttrain-logloss:0.479699\n",
      "[16]\teval-logloss:0.490730\ttrain-logloss:0.475844\n",
      "[17]\teval-logloss:0.488789\ttrain-logloss:0.473261\n",
      "[18]\teval-logloss:0.486063\ttrain-logloss:0.469722\n",
      "[19]\teval-logloss:0.483800\ttrain-logloss:0.466434\n",
      "[20]\teval-logloss:0.482298\ttrain-logloss:0.464187\n",
      "[21]\teval-logloss:0.481199\ttrain-logloss:0.462365\n",
      "[22]\teval-logloss:0.480152\ttrain-logloss:0.460358\n",
      "[23]\teval-logloss:0.479427\ttrain-logloss:0.459079\n",
      "[24]\teval-logloss:0.478021\ttrain-logloss:0.456651\n",
      "[25]\teval-logloss:0.477379\ttrain-logloss:0.455563\n",
      "[26]\teval-logloss:0.476461\ttrain-logloss:0.453615\n",
      "[27]\teval-logloss:0.475694\ttrain-logloss:0.452132\n",
      "[28]\teval-logloss:0.475141\ttrain-logloss:0.450990\n",
      "[29]\teval-logloss:0.474205\ttrain-logloss:0.449147\n",
      "[30]\teval-logloss:0.473767\ttrain-logloss:0.448281\n",
      "[31]\teval-logloss:0.473060\ttrain-logloss:0.446544\n",
      "[32]\teval-logloss:0.472672\ttrain-logloss:0.445374\n",
      "[33]\teval-logloss:0.472450\ttrain-logloss:0.444724\n",
      "[34]\teval-logloss:0.472185\ttrain-logloss:0.444083\n",
      "[35]\teval-logloss:0.471641\ttrain-logloss:0.442503\n",
      "[36]\teval-logloss:0.471190\ttrain-logloss:0.441239\n",
      "[37]\teval-logloss:0.470954\ttrain-logloss:0.440383\n",
      "[38]\teval-logloss:0.470549\ttrain-logloss:0.439148\n",
      "[39]\teval-logloss:0.470437\ttrain-logloss:0.438796\n",
      "[40]\teval-logloss:0.470219\ttrain-logloss:0.437807\n",
      "[41]\teval-logloss:0.469994\ttrain-logloss:0.436670\n",
      "[42]\teval-logloss:0.469967\ttrain-logloss:0.436123\n",
      "[43]\teval-logloss:0.469824\ttrain-logloss:0.435154\n",
      "[44]\teval-logloss:0.469797\ttrain-logloss:0.434520\n",
      "[45]\teval-logloss:0.469632\ttrain-logloss:0.433983\n",
      "[46]\teval-logloss:0.469529\ttrain-logloss:0.432975\n",
      "[47]\teval-logloss:0.469504\ttrain-logloss:0.432615\n",
      "[48]\teval-logloss:0.469462\ttrain-logloss:0.431852\n",
      "[49]\teval-logloss:0.469406\ttrain-logloss:0.431284\n",
      "[50]\teval-logloss:0.469352\ttrain-logloss:0.430520\n",
      "[51]\teval-logloss:0.469259\ttrain-logloss:0.430059\n",
      "[52]\teval-logloss:0.469081\ttrain-logloss:0.429498\n",
      "[53]\teval-logloss:0.469093\ttrain-logloss:0.429216\n",
      "[54]\teval-logloss:0.469042\ttrain-logloss:0.428593\n",
      "[55]\teval-logloss:0.469034\ttrain-logloss:0.428223\n",
      "[56]\teval-logloss:0.469026\ttrain-logloss:0.427619\n",
      "[57]\teval-logloss:0.468985\ttrain-logloss:0.427439\n",
      "[58]\teval-logloss:0.468984\ttrain-logloss:0.426917\n",
      "[59]\teval-logloss:0.468976\ttrain-logloss:0.426187\n",
      "[60]\teval-logloss:0.468795\ttrain-logloss:0.425705\n",
      "[61]\teval-logloss:0.468735\ttrain-logloss:0.424935\n",
      "[62]\teval-logloss:0.468668\ttrain-logloss:0.424483\n",
      "[63]\teval-logloss:0.468657\ttrain-logloss:0.424250\n",
      "[64]\teval-logloss:0.468586\ttrain-logloss:0.423937\n",
      "[65]\teval-logloss:0.468593\ttrain-logloss:0.423601\n",
      "[66]\teval-logloss:0.468555\ttrain-logloss:0.422856\n",
      "[67]\teval-logloss:0.468355\ttrain-logloss:0.422338\n",
      "[68]\teval-logloss:0.468325\ttrain-logloss:0.421873\n",
      "[69]\teval-logloss:0.468327\ttrain-logloss:0.421566\n",
      "[70]\teval-logloss:0.468292\ttrain-logloss:0.421336\n",
      "[71]\teval-logloss:0.468219\ttrain-logloss:0.421008\n",
      "[72]\teval-logloss:0.468145\ttrain-logloss:0.420481\n",
      "[73]\teval-logloss:0.468160\ttrain-logloss:0.420102\n",
      "[74]\teval-logloss:0.468154\ttrain-logloss:0.419792\n",
      "[75]\teval-logloss:0.468151\ttrain-logloss:0.419483\n",
      "[76]\teval-logloss:0.468114\ttrain-logloss:0.419197\n",
      "[77]\teval-logloss:0.468057\ttrain-logloss:0.418925\n",
      "[78]\teval-logloss:0.468058\ttrain-logloss:0.418355\n",
      "[79]\teval-logloss:0.467977\ttrain-logloss:0.418132\n",
      "[80]\teval-logloss:0.467971\ttrain-logloss:0.417694\n",
      "[81]\teval-logloss:0.468006\ttrain-logloss:0.417485\n",
      "[82]\teval-logloss:0.467943\ttrain-logloss:0.417038\n",
      "[83]\teval-logloss:0.467944\ttrain-logloss:0.416875\n",
      "[84]\teval-logloss:0.467848\ttrain-logloss:0.416443\n",
      "[85]\teval-logloss:0.467919\ttrain-logloss:0.416196\n",
      "[86]\teval-logloss:0.467912\ttrain-logloss:0.415821\n",
      "[87]\teval-logloss:0.467914\ttrain-logloss:0.415446\n",
      "[88]\teval-logloss:0.467975\ttrain-logloss:0.414922\n",
      "[89]\teval-logloss:0.467976\ttrain-logloss:0.414775\n",
      "[90]\teval-logloss:0.468003\ttrain-logloss:0.414584\n",
      "[91]\teval-logloss:0.468062\ttrain-logloss:0.414006\n",
      "[92]\teval-logloss:0.468058\ttrain-logloss:0.413565\n",
      "[93]\teval-logloss:0.468024\ttrain-logloss:0.413132\n",
      "[94]\teval-logloss:0.468010\ttrain-logloss:0.412829\n",
      "[95]\teval-logloss:0.468023\ttrain-logloss:0.412628\n",
      "[96]\teval-logloss:0.467952\ttrain-logloss:0.411856\n",
      "[97]\teval-logloss:0.467942\ttrain-logloss:0.411377\n",
      "[98]\teval-logloss:0.467939\ttrain-logloss:0.410812\n",
      "[99]\teval-logloss:0.467979\ttrain-logloss:0.410536\n"
     ]
    }
   ],
   "source": [
    "for train_index, val_index in ss:\n",
    "    dtrain = xgb.DMatrix(tr_updated.iloc[train_index,2:].as_matrix(), label = tr.iloc[train_index, 1].values)\n",
    "    dvalid = xgb.DMatrix(tr_updated.iloc[val_index,2:].as_matrix(), label = tr.iloc[val_index, 1].values)\n",
    "    params = {\"objective\": \"binary:logistic\",\n",
    "   \"booster\": \"gbtree\",\n",
    "      \"learning_rate\": 0.1,\n",
    "      \"max_depth\": 8,\n",
    "      \"subsample\": 0.8,\n",
    "      \"colsample_bytree\":0.7,\n",
    "      \"silent\": 1,\n",
    "      'min_child_weight': 11,\n",
    "      'eval_metric':'logloss',\n",
    "    'seed':22,\n",
    "    'nthread':2}\n",
    "#     params = { \n",
    "#    \"objective\": \"binary:logistic\",\n",
    "#    \"booster\": \"gbtree\",\n",
    "#    \"eval_metric\": \"logloss\",\n",
    "#    \"eta\": 0.01, # 0.06, #0.01,\n",
    "#    #\"min_child_weight\": 240,\n",
    "#    \"subsample\": 0.75,\n",
    "#    \"colsample_bytree\": 0.68,\n",
    "#    \"max_depth\": 11\n",
    "# }\n",
    "\n",
    "\n",
    "    num_trees = 100\n",
    "    watchlist = [(dvalid, 'eval'), (dtrain, 'train')]\n",
    "    gbm = xgb.train(params, \n",
    "                dtrain, \n",
    "                num_trees, \n",
    "                        evals=watchlist, \n",
    "#                         early_stopping_rounds=50, \n",
    "#                         feval=rmspe_xg, \n",
    "#                     verbose_eval=True\n",
    "               )"
   ]
  },
  {
   "cell_type": "markdown",
   "metadata": {},
   "source": [
    "## External solution"
   ]
  },
  {
   "cell_type": "code",
   "execution_count": 36,
   "metadata": {
    "collapsed": false
   },
   "outputs": [
    {
     "name": "stdout",
     "output_type": "stream",
     "text": [
      "Load data...\n",
      "Clearing...\n"
     ]
    },
    {
     "name": "stderr",
     "output_type": "stream",
     "text": [
      "/Users/evgenysidorov/anaconda/lib/python3.5/site-packages/ipykernel/__main__.py:16: FutureWarning: pd.rolling_apply is deprecated for Series and will be removed in a future version, replace with \n",
      "\tSeries.rolling(center=False,window=2).apply(func=<function>,kwargs=<dict>,args=<tuple>)\n"
     ]
    }
   ],
   "source": [
    "import pandas as pd\n",
    "\n",
    "import numpy as np\n",
    "import csv\n",
    "from sklearn.tree import DecisionTreeClassifier\n",
    "from sklearn.ensemble import ExtraTreesClassifier\n",
    "from sklearn import ensemble\n",
    "\n",
    "\n",
    "def find_delimiter(df, col):\n",
    "    \"\"\"\n",
    "    Function that trying to find an approximate delimiter used for scaling.\n",
    "    So we can undo the feature scaling.\n",
    "    \"\"\"\n",
    "    vals = df[col].dropna().sort_values().round(8)\n",
    "    vals = pd.rolling_apply(vals, 2, lambda x: x[1] - x[0])\n",
    "    vals = vals[vals > 0.000001]\n",
    "    return vals.value_counts().idxmax() \n",
    "\n",
    "print('Load data...')\n",
    "train = pd.read_csv('/Users/evgenysidorov/Documents/Kaggle/bnp/data/train.csv')\n",
    "target = train['target'].values\n",
    "train = train.drop(['ID','target','v8','v23','v25','v31','v36','v37','v46','v51','v53','v54','v63','v73','v75','v79','v81','v82','v89','v92','v95','v105','v107','v108','v109','v110','v116','v117','v118','v119','v123','v124','v128'],axis=1)\n",
    "test = pd.read_csv('/Users/evgenysidorov/Documents/Kaggle/bnp/data/test.csv')\n",
    "id_test = test['ID'].values\n",
    "test = test.drop(['ID','v8','v23','v25','v31','v36','v37','v46','v51','v53','v54','v63','v73','v75','v79','v81','v82','v89','v92','v95','v105','v107','v108','v109','v110','v116','v117','v118','v119','v123','v124','v128'],axis=1)\n",
    "\n",
    "print('Clearing...')\n",
    "num_vars = ['v1', 'v2', 'v4', 'v5', 'v6', 'v7', 'v9', 'v10', 'v11',\n",
    "            'v12', 'v13', 'v14', 'v15', 'v16', 'v17', 'v18', 'v19', 'v20',\n",
    "            'v21', 'v26', 'v27', 'v28', 'v29', 'v32', 'v33', 'v34', 'v35', 'v38',\n",
    "            'v39', 'v40', 'v41', 'v42', 'v43', 'v44', 'v45', 'v48', 'v49', 'v50',\n",
    "            'v55', 'v57', 'v58', 'v59', 'v60', 'v61', 'v62', 'v64', 'v65', 'v67',\n",
    "            'v68', 'v69', 'v70', 'v72', 'v76', 'v77', 'v78', 'v80', 'v83', 'v84', \n",
    "            'v85', 'v86', 'v87', 'v88', 'v90', 'v93', 'v94', 'v96', 'v97', 'v98', \n",
    "            'v99', 'v100', 'v101', 'v102', 'v103', 'v104', 'v106', 'v111', 'v114',\n",
    "            'v115', 'v120', 'v121', 'v122', 'v126', 'v127', 'v129', 'v130', 'v131']\n",
    "\n",
    "vs = pd.concat([train, test])\n",
    "for c in num_vars:\n",
    "    if c not in train.columns:\n",
    "        continue\n",
    "    \n",
    "    train.loc[train[c].round(5) == 0, c] = 0\n",
    "    test.loc[test[c].round(5) == 0, c] = 0\n",
    "\n",
    "    delimiter = find_delimiter(vs, c)\n",
    "    train[c] *= 1/delimiter\n",
    "    test[c] *= 1/delimiter\n",
    "\n",
    "for (train_name, train_series), (test_name, test_series) in zip(train.iteritems(),test.iteritems()):\n",
    "    if train_series.dtype == 'O':\n",
    "        #for objects: factorize\n",
    "        train[train_name], tmp_indexer = pd.factorize(train[train_name])\n",
    "        test[test_name] = tmp_indexer.get_indexer(test[test_name])\n",
    "        #but now we have -1 values (NaN)\n",
    "    else:\n",
    "        #for int or float: fill NaN\n",
    "        tmp_len = len(train[train_series.isnull()])\n",
    "        if tmp_len>0:\n",
    "            #print \"mean\", train_series.mean()\n",
    "            train.loc[train_series.isnull(), train_name] = -999 \n",
    "        #and Test\n",
    "        tmp_len = len(test[test_series.isnull()])\n",
    "        if tmp_len>0:\n",
    "            test.loc[test_series.isnull(), test_name] = -999\n",
    "\n",
    "# X_train = train\n",
    "# X_test = test\n",
    "# print('Training...')\n",
    "# extc = ExtraTreesClassifier(n_estimators=1000,max_features= 50,criterion= 'entropy',min_samples_split= 4,\n",
    "#                             max_depth= 35, min_samples_leaf= 2, n_jobs = -1)      \n",
    "\n",
    "# extc.fit(X_train,target) \n",
    "\n",
    "# print('Predict...')\n",
    "# y_pred = extc.predict_proba(X_test)\n",
    "# #print y_pred\n",
    "\n",
    "# pd.DataFrame({\"ID\": id_test, \"PredictedProb\": y_pred[:,1]}).to_csv('extra_trees.csv',index=False)"
   ]
  },
  {
   "cell_type": "code",
   "execution_count": 38,
   "metadata": {
    "collapsed": false
   },
   "outputs": [
    {
     "data": {
      "text/html": [
       "<div>\n",
       "<table border=\"1\" class=\"dataframe\">\n",
       "  <thead>\n",
       "    <tr style=\"text-align: right;\">\n",
       "      <th></th>\n",
       "      <th>v1</th>\n",
       "      <th>v2</th>\n",
       "      <th>v3</th>\n",
       "      <th>v4</th>\n",
       "      <th>v5</th>\n",
       "      <th>v6</th>\n",
       "      <th>v7</th>\n",
       "      <th>v9</th>\n",
       "      <th>v10</th>\n",
       "      <th>v11</th>\n",
       "      <th>...</th>\n",
       "      <th>v115</th>\n",
       "      <th>v120</th>\n",
       "      <th>v121</th>\n",
       "      <th>v122</th>\n",
       "      <th>v125</th>\n",
       "      <th>v126</th>\n",
       "      <th>v127</th>\n",
       "      <th>v129</th>\n",
       "      <th>v130</th>\n",
       "      <th>v131</th>\n",
       "    </tr>\n",
       "  </thead>\n",
       "  <tbody>\n",
       "    <tr>\n",
       "      <th>count</th>\n",
       "      <td>1.143210e+05</td>\n",
       "      <td>1.143210e+05</td>\n",
       "      <td>114321.000000</td>\n",
       "      <td>1.143210e+05</td>\n",
       "      <td>114321.000000</td>\n",
       "      <td>1.143210e+05</td>\n",
       "      <td>1.143210e+05</td>\n",
       "      <td>1.143210e+05</td>\n",
       "      <td>114321.000000</td>\n",
       "      <td>1.143210e+05</td>\n",
       "      <td>...</td>\n",
       "      <td>1.143210e+05</td>\n",
       "      <td>1.143210e+05</td>\n",
       "      <td>1.143210e+05</td>\n",
       "      <td>1.143210e+05</td>\n",
       "      <td>114321.000000</td>\n",
       "      <td>1.143210e+05</td>\n",
       "      <td>1.143210e+05</td>\n",
       "      <td>114321.000000</td>\n",
       "      <td>1.143210e+05</td>\n",
       "      <td>1.143210e+05</td>\n",
       "    </tr>\n",
       "    <tr>\n",
       "      <th>mean</th>\n",
       "      <td>9.014050e+05</td>\n",
       "      <td>4.170910e+06</td>\n",
       "      <td>-0.027327</td>\n",
       "      <td>2.293265e+06</td>\n",
       "      <td>322.380684</td>\n",
       "      <td>1.333919e+06</td>\n",
       "      <td>1.359944e+06</td>\n",
       "      <td>5.042546e+06</td>\n",
       "      <td>85.265776</td>\n",
       "      <td>8.459191e+06</td>\n",
       "      <td>...</td>\n",
       "      <td>5.770817e+06</td>\n",
       "      <td>7.066876e+05</td>\n",
       "      <td>1.513387e+06</td>\n",
       "      <td>3.808906e+06</td>\n",
       "      <td>33.298134</td>\n",
       "      <td>8.573408e+05</td>\n",
       "      <td>1.791173e+06</td>\n",
       "      <td>0.310144</td>\n",
       "      <td>1.064414e+06</td>\n",
       "      <td>9.605825e+05</td>\n",
       "    </tr>\n",
       "    <tr>\n",
       "      <th>std</th>\n",
       "      <td>1.124711e+06</td>\n",
       "      <td>4.276121e+06</td>\n",
       "      <td>0.182573</td>\n",
       "      <td>2.185737e+06</td>\n",
       "      <td>1159.745602</td>\n",
       "      <td>1.252359e+06</td>\n",
       "      <td>1.271206e+06</td>\n",
       "      <td>4.661459e+06</td>\n",
       "      <td>70.146482</td>\n",
       "      <td>7.459733e+06</td>\n",
       "      <td>...</td>\n",
       "      <td>5.265066e+06</td>\n",
       "      <td>8.227550e+05</td>\n",
       "      <td>1.664306e+06</td>\n",
       "      <td>3.606545e+06</td>\n",
       "      <td>21.669189</td>\n",
       "      <td>8.290576e+05</td>\n",
       "      <td>1.978734e+06</td>\n",
       "      <td>0.693262</td>\n",
       "      <td>1.320708e+06</td>\n",
       "      <td>1.188915e+06</td>\n",
       "    </tr>\n",
       "    <tr>\n",
       "      <th>min</th>\n",
       "      <td>-9.990000e+02</td>\n",
       "      <td>-9.990000e+02</td>\n",
       "      <td>-1.000000</td>\n",
       "      <td>-9.990000e+02</td>\n",
       "      <td>-999.000000</td>\n",
       "      <td>-9.990000e+02</td>\n",
       "      <td>-9.990000e+02</td>\n",
       "      <td>-9.990000e+02</td>\n",
       "      <td>-999.000000</td>\n",
       "      <td>-9.990000e+02</td>\n",
       "      <td>...</td>\n",
       "      <td>-9.990000e+02</td>\n",
       "      <td>-9.990000e+02</td>\n",
       "      <td>-9.990000e+02</td>\n",
       "      <td>-9.990000e+02</td>\n",
       "      <td>-1.000000</td>\n",
       "      <td>-9.990000e+02</td>\n",
       "      <td>-9.990000e+02</td>\n",
       "      <td>0.000000</td>\n",
       "      <td>-9.990000e+02</td>\n",
       "      <td>-9.990000e+02</td>\n",
       "    </tr>\n",
       "    <tr>\n",
       "      <th>25%</th>\n",
       "      <td>-9.990000e+02</td>\n",
       "      <td>-9.990000e+02</td>\n",
       "      <td>0.000000</td>\n",
       "      <td>-9.990000e+02</td>\n",
       "      <td>-999.000000</td>\n",
       "      <td>-9.990000e+02</td>\n",
       "      <td>-9.990000e+02</td>\n",
       "      <td>-9.990000e+02</td>\n",
       "      <td>48.004382</td>\n",
       "      <td>-9.990000e+02</td>\n",
       "      <td>...</td>\n",
       "      <td>-9.990000e+02</td>\n",
       "      <td>-9.990000e+02</td>\n",
       "      <td>-9.990000e+02</td>\n",
       "      <td>-9.990000e+02</td>\n",
       "      <td>16.000000</td>\n",
       "      <td>-9.990000e+02</td>\n",
       "      <td>-9.990000e+02</td>\n",
       "      <td>0.000000</td>\n",
       "      <td>-9.990000e+02</td>\n",
       "      <td>-9.990000e+02</td>\n",
       "    </tr>\n",
       "    <tr>\n",
       "      <th>50%</th>\n",
       "      <td>5.221852e+05</td>\n",
       "      <td>4.012424e+06</td>\n",
       "      <td>0.000000</td>\n",
       "      <td>2.701382e+06</td>\n",
       "      <td>997.290611</td>\n",
       "      <td>1.723745e+06</td>\n",
       "      <td>1.765225e+06</td>\n",
       "      <td>6.734065e+06</td>\n",
       "      <td>60.005470</td>\n",
       "      <td>1.413592e+07</td>\n",
       "      <td>...</td>\n",
       "      <td>8.303525e+06</td>\n",
       "      <td>5.386074e+05</td>\n",
       "      <td>1.355381e+06</td>\n",
       "      <td>4.718441e+06</td>\n",
       "      <td>29.000000</td>\n",
       "      <td>1.142534e+06</td>\n",
       "      <td>1.497287e+06</td>\n",
       "      <td>0.000000</td>\n",
       "      <td>8.312030e+05</td>\n",
       "      <td>5.767004e+05</td>\n",
       "    </tr>\n",
       "    <tr>\n",
       "      <th>75%</th>\n",
       "      <td>1.568062e+06</td>\n",
       "      <td>7.476733e+06</td>\n",
       "      <td>0.000000</td>\n",
       "      <td>4.255126e+06</td>\n",
       "      <td>1327.504218</td>\n",
       "      <td>2.412330e+06</td>\n",
       "      <td>2.454801e+06</td>\n",
       "      <td>9.210223e+06</td>\n",
       "      <td>96.008800</td>\n",
       "      <td>1.513970e+07</td>\n",
       "      <td>...</td>\n",
       "      <td>1.040675e+07</td>\n",
       "      <td>1.201306e+06</td>\n",
       "      <td>2.556375e+06</td>\n",
       "      <td>6.930692e+06</td>\n",
       "      <td>47.000000</td>\n",
       "      <td>1.509704e+06</td>\n",
       "      <td>3.107414e+06</td>\n",
       "      <td>0.000000</td>\n",
       "      <td>1.655111e+06</td>\n",
       "      <td>1.685048e+06</td>\n",
       "    </tr>\n",
       "    <tr>\n",
       "      <th>max</th>\n",
       "      <td>1.960784e+07</td>\n",
       "      <td>1.980198e+07</td>\n",
       "      <td>2.000000</td>\n",
       "      <td>1.960784e+07</td>\n",
       "      <td>2974.866890</td>\n",
       "      <td>1.941748e+07</td>\n",
       "      <td>1.941748e+07</td>\n",
       "      <td>1.980198e+07</td>\n",
       "      <td>847.077330</td>\n",
       "      <td>1.941748e+07</td>\n",
       "      <td>...</td>\n",
       "      <td>1.941748e+07</td>\n",
       "      <td>1.009152e+07</td>\n",
       "      <td>1.960784e+07</td>\n",
       "      <td>1.980198e+07</td>\n",
       "      <td>89.000000</td>\n",
       "      <td>1.421056e+07</td>\n",
       "      <td>1.960784e+07</td>\n",
       "      <td>11.000000</td>\n",
       "      <td>1.960784e+07</td>\n",
       "      <td>1.960784e+07</td>\n",
       "    </tr>\n",
       "  </tbody>\n",
       "</table>\n",
       "<p>8 rows × 100 columns</p>\n",
       "</div>"
      ],
      "text/plain": [
       "                 v1            v2             v3            v4             v5  \\\n",
       "count  1.143210e+05  1.143210e+05  114321.000000  1.143210e+05  114321.000000   \n",
       "mean   9.014050e+05  4.170910e+06      -0.027327  2.293265e+06     322.380684   \n",
       "std    1.124711e+06  4.276121e+06       0.182573  2.185737e+06    1159.745602   \n",
       "min   -9.990000e+02 -9.990000e+02      -1.000000 -9.990000e+02    -999.000000   \n",
       "25%   -9.990000e+02 -9.990000e+02       0.000000 -9.990000e+02    -999.000000   \n",
       "50%    5.221852e+05  4.012424e+06       0.000000  2.701382e+06     997.290611   \n",
       "75%    1.568062e+06  7.476733e+06       0.000000  4.255126e+06    1327.504218   \n",
       "max    1.960784e+07  1.980198e+07       2.000000  1.960784e+07    2974.866890   \n",
       "\n",
       "                 v6            v7            v9            v10           v11  \\\n",
       "count  1.143210e+05  1.143210e+05  1.143210e+05  114321.000000  1.143210e+05   \n",
       "mean   1.333919e+06  1.359944e+06  5.042546e+06      85.265776  8.459191e+06   \n",
       "std    1.252359e+06  1.271206e+06  4.661459e+06      70.146482  7.459733e+06   \n",
       "min   -9.990000e+02 -9.990000e+02 -9.990000e+02    -999.000000 -9.990000e+02   \n",
       "25%   -9.990000e+02 -9.990000e+02 -9.990000e+02      48.004382 -9.990000e+02   \n",
       "50%    1.723745e+06  1.765225e+06  6.734065e+06      60.005470  1.413592e+07   \n",
       "75%    2.412330e+06  2.454801e+06  9.210223e+06      96.008800  1.513970e+07   \n",
       "max    1.941748e+07  1.941748e+07  1.980198e+07     847.077330  1.941748e+07   \n",
       "\n",
       "           ...               v115          v120          v121          v122  \\\n",
       "count      ...       1.143210e+05  1.143210e+05  1.143210e+05  1.143210e+05   \n",
       "mean       ...       5.770817e+06  7.066876e+05  1.513387e+06  3.808906e+06   \n",
       "std        ...       5.265066e+06  8.227550e+05  1.664306e+06  3.606545e+06   \n",
       "min        ...      -9.990000e+02 -9.990000e+02 -9.990000e+02 -9.990000e+02   \n",
       "25%        ...      -9.990000e+02 -9.990000e+02 -9.990000e+02 -9.990000e+02   \n",
       "50%        ...       8.303525e+06  5.386074e+05  1.355381e+06  4.718441e+06   \n",
       "75%        ...       1.040675e+07  1.201306e+06  2.556375e+06  6.930692e+06   \n",
       "max        ...       1.941748e+07  1.009152e+07  1.960784e+07  1.980198e+07   \n",
       "\n",
       "                v125          v126          v127           v129          v130  \\\n",
       "count  114321.000000  1.143210e+05  1.143210e+05  114321.000000  1.143210e+05   \n",
       "mean       33.298134  8.573408e+05  1.791173e+06       0.310144  1.064414e+06   \n",
       "std        21.669189  8.290576e+05  1.978734e+06       0.693262  1.320708e+06   \n",
       "min        -1.000000 -9.990000e+02 -9.990000e+02       0.000000 -9.990000e+02   \n",
       "25%        16.000000 -9.990000e+02 -9.990000e+02       0.000000 -9.990000e+02   \n",
       "50%        29.000000  1.142534e+06  1.497287e+06       0.000000  8.312030e+05   \n",
       "75%        47.000000  1.509704e+06  3.107414e+06       0.000000  1.655111e+06   \n",
       "max        89.000000  1.421056e+07  1.960784e+07      11.000000  1.960784e+07   \n",
       "\n",
       "               v131  \n",
       "count  1.143210e+05  \n",
       "mean   9.605825e+05  \n",
       "std    1.188915e+06  \n",
       "min   -9.990000e+02  \n",
       "25%   -9.990000e+02  \n",
       "50%    5.767004e+05  \n",
       "75%    1.685048e+06  \n",
       "max    1.960784e+07  \n",
       "\n",
       "[8 rows x 100 columns]"
      ]
     },
     "execution_count": 38,
     "metadata": {},
     "output_type": "execute_result"
    }
   ],
   "source": [
    "train.describe()"
   ]
  },
  {
   "cell_type": "markdown",
   "metadata": {},
   "source": [
    "# Another example"
   ]
  },
  {
   "cell_type": "code",
   "execution_count": 88,
   "metadata": {
    "collapsed": false
   },
   "outputs": [
    {
     "name": "stdout",
     "output_type": "stream",
     "text": [
      "Load data...\n",
      "Clearing...\n",
      "Fit the model...\n"
     ]
    },
    {
     "name": "stderr",
     "output_type": "stream",
     "text": [
      "[0]\teval-logloss:0.689879\ttrain-logloss:0.689719\n",
      "[1]\teval-logloss:0.686533\ttrain-logloss:0.686402\n",
      "[2]\teval-logloss:0.682867\ttrain-logloss:0.682687\n",
      "[3]\teval-logloss:0.679730\ttrain-logloss:0.679461\n",
      "[4]\teval-logloss:0.676380\ttrain-logloss:0.676046\n",
      "[5]\teval-logloss:0.672935\ttrain-logloss:0.672534\n",
      "[6]\teval-logloss:0.669706\ttrain-logloss:0.669227\n",
      "[7]\teval-logloss:0.666381\ttrain-logloss:0.665851\n",
      "[8]\teval-logloss:0.663298\ttrain-logloss:0.662676\n",
      "[9]\teval-logloss:0.660100\ttrain-logloss:0.659428\n",
      "[10]\teval-logloss:0.656943\ttrain-logloss:0.656203\n",
      "[11]\teval-logloss:0.653851\ttrain-logloss:0.653044\n",
      "[12]\teval-logloss:0.651158\ttrain-logloss:0.650303\n",
      "[13]\teval-logloss:0.648523\ttrain-logloss:0.647608\n",
      "[14]\teval-logloss:0.645741\ttrain-logloss:0.644743\n",
      "[15]\teval-logloss:0.643016\ttrain-logloss:0.641933\n",
      "[16]\teval-logloss:0.640185\ttrain-logloss:0.639039\n",
      "[17]\teval-logloss:0.637534\ttrain-logloss:0.636327\n",
      "[18]\teval-logloss:0.634966\ttrain-logloss:0.633673\n",
      "[19]\teval-logloss:0.632428\ttrain-logloss:0.631061\n",
      "[20]\teval-logloss:0.629779\ttrain-logloss:0.628367\n",
      "[21]\teval-logloss:0.627410\ttrain-logloss:0.625929\n",
      "[22]\teval-logloss:0.625023\ttrain-logloss:0.623463\n",
      "[23]\teval-logloss:0.622722\ttrain-logloss:0.621096\n",
      "[24]\teval-logloss:0.620419\ttrain-logloss:0.618708\n",
      "[25]\teval-logloss:0.617999\ttrain-logloss:0.616222\n",
      "[26]\teval-logloss:0.615923\ttrain-logloss:0.614084\n",
      "[27]\teval-logloss:0.613944\ttrain-logloss:0.612048\n",
      "[28]\teval-logloss:0.611945\ttrain-logloss:0.609983\n",
      "[29]\teval-logloss:0.609862\ttrain-logloss:0.607808\n",
      "[30]\teval-logloss:0.607894\ttrain-logloss:0.605779\n",
      "[31]\teval-logloss:0.605957\ttrain-logloss:0.603776\n",
      "[32]\teval-logloss:0.603775\ttrain-logloss:0.601540\n",
      "[33]\teval-logloss:0.601912\ttrain-logloss:0.599625\n",
      "[34]\teval-logloss:0.599815\ttrain-logloss:0.597470\n",
      "[35]\teval-logloss:0.597760\ttrain-logloss:0.595353\n",
      "[36]\teval-logloss:0.595729\ttrain-logloss:0.593253\n",
      "[37]\teval-logloss:0.593857\ttrain-logloss:0.591303\n",
      "[38]\teval-logloss:0.591882\ttrain-logloss:0.589271\n",
      "[39]\teval-logloss:0.590066\ttrain-logloss:0.587370\n",
      "[40]\teval-logloss:0.588411\ttrain-logloss:0.585664\n",
      "[41]\teval-logloss:0.586524\ttrain-logloss:0.583727\n",
      "[42]\teval-logloss:0.584682\ttrain-logloss:0.581815\n",
      "[43]\teval-logloss:0.582886\ttrain-logloss:0.579968\n",
      "[44]\teval-logloss:0.581266\ttrain-logloss:0.578292\n",
      "[45]\teval-logloss:0.579525\ttrain-logloss:0.576483\n",
      "[46]\teval-logloss:0.577959\ttrain-logloss:0.574855\n",
      "[47]\teval-logloss:0.576265\ttrain-logloss:0.573099\n",
      "[48]\teval-logloss:0.574595\ttrain-logloss:0.571372\n",
      "[49]\teval-logloss:0.573176\ttrain-logloss:0.569897\n",
      "[50]\teval-logloss:0.571785\ttrain-logloss:0.568452\n",
      "[51]\teval-logloss:0.570408\ttrain-logloss:0.567017\n",
      "[52]\teval-logloss:0.568841\ttrain-logloss:0.565385\n",
      "[53]\teval-logloss:0.567436\ttrain-logloss:0.563900\n",
      "[54]\teval-logloss:0.566085\ttrain-logloss:0.562463\n",
      "[55]\teval-logloss:0.564565\ttrain-logloss:0.560888\n",
      "[56]\teval-logloss:0.563082\ttrain-logloss:0.559343\n",
      "[57]\teval-logloss:0.561769\ttrain-logloss:0.557983\n",
      "[58]\teval-logloss:0.560331\ttrain-logloss:0.556491\n",
      "[59]\teval-logloss:0.558917\ttrain-logloss:0.555015\n",
      "[60]\teval-logloss:0.557671\ttrain-logloss:0.553696\n",
      "[61]\teval-logloss:0.556411\ttrain-logloss:0.552353\n",
      "[62]\teval-logloss:0.555076\ttrain-logloss:0.550959\n",
      "[63]\teval-logloss:0.554036\ttrain-logloss:0.549836\n",
      "[64]\teval-logloss:0.552872\ttrain-logloss:0.548603\n",
      "[65]\teval-logloss:0.551580\ttrain-logloss:0.547261\n",
      "[66]\teval-logloss:0.550419\ttrain-logloss:0.546019\n",
      "[67]\teval-logloss:0.549167\ttrain-logloss:0.544701\n",
      "[68]\teval-logloss:0.548038\ttrain-logloss:0.543497\n",
      "[69]\teval-logloss:0.546977\ttrain-logloss:0.542370\n",
      "[70]\teval-logloss:0.545773\ttrain-logloss:0.541118\n",
      "[71]\teval-logloss:0.544734\ttrain-logloss:0.540008\n",
      "[72]\teval-logloss:0.543564\ttrain-logloss:0.538782\n",
      "[73]\teval-logloss:0.542531\ttrain-logloss:0.537671\n",
      "[74]\teval-logloss:0.541584\ttrain-logloss:0.536659\n",
      "[75]\teval-logloss:0.540643\ttrain-logloss:0.535651\n",
      "[76]\teval-logloss:0.539565\ttrain-logloss:0.534516\n",
      "[77]\teval-logloss:0.538646\ttrain-logloss:0.533536\n",
      "[78]\teval-logloss:0.537602\ttrain-logloss:0.532434\n",
      "[79]\teval-logloss:0.536641\ttrain-logloss:0.531383\n",
      "[80]\teval-logloss:0.535724\ttrain-logloss:0.530401\n",
      "[81]\teval-logloss:0.534842\ttrain-logloss:0.529456\n",
      "[82]\teval-logloss:0.534018\ttrain-logloss:0.528565\n",
      "[83]\teval-logloss:0.533003\ttrain-logloss:0.527508\n",
      "[84]\teval-logloss:0.532020\ttrain-logloss:0.526482\n",
      "[85]\teval-logloss:0.531080\ttrain-logloss:0.525475\n",
      "[86]\teval-logloss:0.530295\ttrain-logloss:0.524624\n",
      "[87]\teval-logloss:0.529372\ttrain-logloss:0.523638\n",
      "[88]\teval-logloss:0.528614\ttrain-logloss:0.522822\n",
      "[89]\teval-logloss:0.527805\ttrain-logloss:0.521926\n",
      "[90]\teval-logloss:0.526912\ttrain-logloss:0.520967\n",
      "[91]\teval-logloss:0.526065\ttrain-logloss:0.520060\n",
      "[92]\teval-logloss:0.525320\ttrain-logloss:0.519253\n",
      "[93]\teval-logloss:0.524630\ttrain-logloss:0.518494\n",
      "[94]\teval-logloss:0.523789\ttrain-logloss:0.517596\n"
     ]
    },
    {
     "ename": "KeyboardInterrupt",
     "evalue": "",
     "output_type": "error",
     "traceback": [
      "\u001b[0;31m---------------------------------------------------------------------------\u001b[0m",
      "\u001b[0;31mKeyboardInterrupt\u001b[0m                         Traceback (most recent call last)",
      "\u001b[0;32m<ipython-input-88-080d802d12c8>\u001b[0m in \u001b[0;36m<module>\u001b[0;34m()\u001b[0m\n\u001b[1;32m     48\u001b[0m     \u001b[0mprint\u001b[0m\u001b[0;34m(\u001b[0m\u001b[0;34m'Fit the model...'\u001b[0m\u001b[0;34m)\u001b[0m\u001b[0;34m\u001b[0m\u001b[0m\n\u001b[1;32m     49\u001b[0m     \u001b[0mboost_round\u001b[0m \u001b[0;34m=\u001b[0m \u001b[0;36m1800\u001b[0m \u001b[0;31m#CHANGE THIS BEFORE START\u001b[0m\u001b[0;34m\u001b[0m\u001b[0m\n\u001b[0;32m---> 50\u001b[0;31m     \u001b[0mclf\u001b[0m \u001b[0;34m=\u001b[0m \u001b[0mxgb\u001b[0m\u001b[0;34m.\u001b[0m\u001b[0mtrain\u001b[0m\u001b[0;34m(\u001b[0m\u001b[0mxgboost_params\u001b[0m\u001b[0;34m,\u001b[0m\u001b[0mxgtrain\u001b[0m\u001b[0;34m,\u001b[0m\u001b[0mnum_boost_round\u001b[0m\u001b[0;34m=\u001b[0m\u001b[0mboost_round\u001b[0m\u001b[0;34m,\u001b[0m\u001b[0mverbose_eval\u001b[0m\u001b[0;34m=\u001b[0m\u001b[0;32mTrue\u001b[0m\u001b[0;34m,\u001b[0m\u001b[0mmaximize\u001b[0m\u001b[0;34m=\u001b[0m\u001b[0;32mFalse\u001b[0m\u001b[0;34m,\u001b[0m \u001b[0mevals\u001b[0m\u001b[0;34m=\u001b[0m\u001b[0mwatchlist\u001b[0m\u001b[0;34m)\u001b[0m\u001b[0;34m\u001b[0m\u001b[0m\n\u001b[0m\u001b[1;32m     51\u001b[0m \u001b[0;34m\u001b[0m\u001b[0m\n\u001b[1;32m     52\u001b[0m     \u001b[0;31m#Make predict\u001b[0m\u001b[0;34m\u001b[0m\u001b[0;34m\u001b[0m\u001b[0m\n",
      "\u001b[0;32m/Users/evgenysidorov/anaconda/lib/python3.5/site-packages/xgboost/training.py\u001b[0m in \u001b[0;36mtrain\u001b[0;34m(params, dtrain, num_boost_round, evals, obj, feval, maximize, early_stopping_rounds, evals_result, verbose_eval, learning_rates, xgb_model)\u001b[0m\n\u001b[1;32m    119\u001b[0m     \u001b[0;32mif\u001b[0m \u001b[0;32mnot\u001b[0m \u001b[0mearly_stopping_rounds\u001b[0m\u001b[0;34m:\u001b[0m\u001b[0;34m\u001b[0m\u001b[0m\n\u001b[1;32m    120\u001b[0m         \u001b[0;32mfor\u001b[0m \u001b[0mi\u001b[0m \u001b[0;32min\u001b[0m \u001b[0mrange\u001b[0m\u001b[0;34m(\u001b[0m\u001b[0mnum_boost_round\u001b[0m\u001b[0;34m)\u001b[0m\u001b[0;34m:\u001b[0m\u001b[0;34m\u001b[0m\u001b[0m\n\u001b[0;32m--> 121\u001b[0;31m             \u001b[0mbst\u001b[0m\u001b[0;34m.\u001b[0m\u001b[0mupdate\u001b[0m\u001b[0;34m(\u001b[0m\u001b[0mdtrain\u001b[0m\u001b[0;34m,\u001b[0m \u001b[0mi\u001b[0m\u001b[0;34m,\u001b[0m \u001b[0mobj\u001b[0m\u001b[0;34m)\u001b[0m\u001b[0;34m\u001b[0m\u001b[0m\n\u001b[0m\u001b[1;32m    122\u001b[0m             \u001b[0mnboost\u001b[0m \u001b[0;34m+=\u001b[0m \u001b[0;36m1\u001b[0m\u001b[0;34m\u001b[0m\u001b[0m\n\u001b[1;32m    123\u001b[0m             \u001b[0;32mif\u001b[0m \u001b[0mlen\u001b[0m\u001b[0;34m(\u001b[0m\u001b[0mevals\u001b[0m\u001b[0;34m)\u001b[0m \u001b[0;34m!=\u001b[0m \u001b[0;36m0\u001b[0m\u001b[0;34m:\u001b[0m\u001b[0;34m\u001b[0m\u001b[0m\n",
      "\u001b[0;32m/Users/evgenysidorov/anaconda/lib/python3.5/site-packages/xgboost/core.py\u001b[0m in \u001b[0;36mupdate\u001b[0;34m(self, dtrain, iteration, fobj)\u001b[0m\n\u001b[1;32m    692\u001b[0m \u001b[0;34m\u001b[0m\u001b[0m\n\u001b[1;32m    693\u001b[0m         \u001b[0;32mif\u001b[0m \u001b[0mfobj\u001b[0m \u001b[0;32mis\u001b[0m \u001b[0;32mNone\u001b[0m\u001b[0;34m:\u001b[0m\u001b[0;34m\u001b[0m\u001b[0m\n\u001b[0;32m--> 694\u001b[0;31m             \u001b[0m_check_call\u001b[0m\u001b[0;34m(\u001b[0m\u001b[0m_LIB\u001b[0m\u001b[0;34m.\u001b[0m\u001b[0mXGBoosterUpdateOneIter\u001b[0m\u001b[0;34m(\u001b[0m\u001b[0mself\u001b[0m\u001b[0;34m.\u001b[0m\u001b[0mhandle\u001b[0m\u001b[0;34m,\u001b[0m \u001b[0miteration\u001b[0m\u001b[0;34m,\u001b[0m \u001b[0mdtrain\u001b[0m\u001b[0;34m.\u001b[0m\u001b[0mhandle\u001b[0m\u001b[0;34m)\u001b[0m\u001b[0;34m)\u001b[0m\u001b[0;34m\u001b[0m\u001b[0m\n\u001b[0m\u001b[1;32m    695\u001b[0m         \u001b[0;32melse\u001b[0m\u001b[0;34m:\u001b[0m\u001b[0;34m\u001b[0m\u001b[0m\n\u001b[1;32m    696\u001b[0m             \u001b[0mpred\u001b[0m \u001b[0;34m=\u001b[0m \u001b[0mself\u001b[0m\u001b[0;34m.\u001b[0m\u001b[0mpredict\u001b[0m\u001b[0;34m(\u001b[0m\u001b[0mdtrain\u001b[0m\u001b[0;34m)\u001b[0m\u001b[0;34m\u001b[0m\u001b[0m\n",
      "\u001b[0;31mKeyboardInterrupt\u001b[0m: "
     ]
    }
   ],
   "source": [
    "import pandas as pd\n",
    "import xgboost as xgb\n",
    "import csv\n",
    "\n",
    "# XGBoost params:\n",
    "xgboost_params = { \n",
    "   \"objective\": \"binary:logistic\",\n",
    "   \"booster\": \"gbtree\",\n",
    "   \"eval_metric\": \"logloss\",\n",
    "   \"eta\": 0.01, # 0.06, #0.01,\n",
    "   #\"min_child_weight\": 240,\n",
    "   \"subsample\": 0.75,\n",
    "   \"colsample_bytree\": 0.68,\n",
    "   \"max_depth\": 7\n",
    "}\n",
    "\n",
    "print('Load data...')\n",
    "train = pd.read_csv('/Users/evgenysidorov/Documents/Kaggle/bnp/data/train.csv')\n",
    "target = train['target']\n",
    "train = train.drop(['ID','target'],axis=1)\n",
    "test = pd.read_csv('/Users/evgenysidorov/Documents/Kaggle/bnp/data/test.csv')\n",
    "ids = test['ID'].values\n",
    "test = test.drop(['ID'],axis=1)\n",
    "#\n",
    "print('Clearing...')\n",
    "for (train_name, train_series), (test_name, test_series) in zip(train.iteritems(),test.iteritems()):\n",
    "    if train_series.dtype == 'O':\n",
    "        #for objects: factorize\n",
    "        train[train_name], tmp_indexer = pd.factorize(train[train_name])\n",
    "        test[test_name] = tmp_indexer.get_indexer(test[test_name])\n",
    "        #but now we have -1 values (NaN)\n",
    "    else:\n",
    "        #for int or float: fill NaN\n",
    "        tmp_len = len(train[train_series.isnull()])\n",
    "        if tmp_len>0:\n",
    "            train.loc[train_series.isnull(), train_name] = train_series.mean()\n",
    "        #and Test\n",
    "        tmp_len = len(test[test_series.isnull()])\n",
    "        if tmp_len>0:\n",
    "            test.loc[test_series.isnull(), test_name] = train_series.mean()  #TODO\n",
    "\n",
    "for train_index, val_index in ss:\n",
    "    xgtrain = xgb.DMatrix(tr.iloc[train_index, 2:].as_matrix(), label = tr.iloc[train_index, 1].values)\n",
    "    xgtest = xgb.DMatrix(tr.iloc[val_index, 2:].as_matrix(), label = tr.iloc[val_index, 1].values)\n",
    "    watchlist = [(xgtest, 'eval'), (xgtrain, 'train')]\n",
    "\n",
    "#Now let's fit the model\n",
    "    print('Fit the model...')\n",
    "    boost_round = 1800 #CHANGE THIS BEFORE START\n",
    "    clf = xgb.train(xgboost_params,xgtrain,num_boost_round=boost_round,verbose_eval=True,maximize=False, evals=watchlist)\n",
    "\n",
    "    #Make predict\n",
    "    print('Predict...')\n",
    "#     test_preds = clf.predict(xgtest, ntree_limit=clf.best_iteration)\n",
    "#     # Save results\n",
    "#     #\n",
    "#     predictions_file = open(\"simple_xgboost_result.csv\", \"w\")\n",
    "#     open_file_object = csv.writer(predictions_file)\n",
    "#     open_file_object.writerow([\"ID\", \"PredictedProb\"])\n",
    "#     open_file_object.writerows(zip(ids, test_preds))\n",
    "#     predictions_file.close()\n",
    "#     #\n",
    "#     print('Done.')"
   ]
  },
  {
   "cell_type": "code",
   "execution_count": null,
   "metadata": {
    "collapsed": true
   },
   "outputs": [],
   "source": []
  }
 ],
 "metadata": {
  "kernelspec": {
   "display_name": "Python 3",
   "language": "python",
   "name": "python3"
  },
  "language_info": {
   "codemirror_mode": {
    "name": "ipython",
    "version": 3
   },
   "file_extension": ".py",
   "mimetype": "text/x-python",
   "name": "python",
   "nbconvert_exporter": "python",
   "pygments_lexer": "ipython3",
   "version": "3.5.1"
  }
 },
 "nbformat": 4,
 "nbformat_minor": 0
}
